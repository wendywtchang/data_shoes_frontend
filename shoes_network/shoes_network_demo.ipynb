{
 "cells": [
  {
   "cell_type": "code",
   "execution_count": 1,
   "id": "629bc47d",
   "metadata": {},
   "outputs": [],
   "source": [
    "from pyvis.network import Network"
   ]
  },
  {
   "cell_type": "code",
   "execution_count": 2,
   "id": "5873083f",
   "metadata": {},
   "outputs": [],
   "source": [
    "net = Network()"
   ]
  },
  {
   "cell_type": "code",
   "execution_count": 3,
   "id": "51130201",
   "metadata": {},
   "outputs": [],
   "source": [
    "net.add_node(1, label=\"Node 1\") # node id = 1 and label = Node 1\n",
    "net.add_node(2) # node id and label = 2"
   ]
  },
  {
   "cell_type": "code",
   "execution_count": 4,
   "id": "e0b8b645",
   "metadata": {},
   "outputs": [],
   "source": [
    "nodes = [\"a\", \"b\", \"c\", \"d\"]\n",
    "net.add_nodes(nodes) # node ids and labels = [\"a\", \"b\", \"c\", \"d\"]\n",
    "net.add_nodes(\"hello\") # node ids and labels = [\"h\", \"e\", \"l\", \"o\"]"
   ]
  },
  {
   "cell_type": "code",
   "execution_count": 5,
   "id": "db1d314a",
   "metadata": {},
   "outputs": [
    {
     "data": {
      "text/plain": [
       "{'color': '#97c2fc', 'id': 'c', 'label': 'c', 'shape': 'dot'}"
      ]
     },
     "execution_count": 5,
     "metadata": {},
     "output_type": "execute_result"
    }
   ],
   "source": [
    "net.add_nodes([\"a\", \"b\", \"c\"])\n",
    "net.get_node(\"c\")"
   ]
  },
  {
   "cell_type": "code",
   "execution_count": 8,
   "id": "7382572a",
   "metadata": {},
   "outputs": [],
   "source": [
    "g = Network()\n",
    "g.add_nodes([1,2,3], value=[10, 100, 400],\n",
    "            title=['I am shoe 1', 'shoe 2 here', 'and im shoe 3'],\n",
    "            x=[21.4, 54.2, 11.2],\n",
    "            y=[100.2, 23.54, 32.1],\n",
    "            label=['SHOE 1', 'SHOE 2', 'SHOE 3'],\n",
    "            color=['#00ff1e', '#162347', '#dd4b39'])"
   ]
  },
  {
   "cell_type": "code",
   "execution_count": 9,
   "id": "3683ae22",
   "metadata": {},
   "outputs": [],
   "source": [
    "g.show(\"demo_1.html\")"
   ]
  },
  {
   "cell_type": "code",
   "execution_count": null,
   "id": "874f0370",
   "metadata": {},
   "outputs": [],
   "source": []
  },
  {
   "cell_type": "code",
   "execution_count": null,
   "id": "add52dbb",
   "metadata": {},
   "outputs": [],
   "source": []
  },
  {
   "cell_type": "code",
   "execution_count": 23,
   "id": "3b0d0a77",
   "metadata": {},
   "outputs": [],
   "source": [
    "g = Network(notebook=True,cdn_resources='remote')\n",
    "\n",
    "shoes = [\"sneakers_1\", \"boots\", \"sandals\"]\n",
    "cities = [\"amsterdam\", \"taipei\"]\n",
    "season = [\"summer\", \"winter\"]\n",
    "value = [10, 100, 400, 10, 10, 20, 10]\n",
    "\n",
    "src = shoes + cities + season\n",
    "\n",
    "\n",
    "g.add_nodes(src,\n",
    "            value=value,\n",
    "#             title=[\"I am sneakers_1\", \"boots here\", \"and im sandals\"],\n",
    "            title=src,\n",
    "            x=[21.4, 21.4, 21.4, 21.4, 21.4, 21.4, 21.4], \n",
    "            y=[100.2, 223.54, 32.1, 100.2, 223.54, 32.1, 32.1],\n",
    "#             label=[\"sneakers_1\", \"boots\", \"sandals\"],\n",
    "            label=src,\n",
    "            color=[\"#DAF7A6\", \n",
    "                   \"#DAF7A6\", \n",
    "                   \"#DAF7A6\", \n",
    "                   \"#FFC300\", \n",
    "                   \"#FFC300\", \n",
    "                   \"#581845\",\n",
    "                   \"#581845\"])\n",
    "# g.add_edge(src, dst, value=w)\n",
    "g.add_edges([\n",
    "    (\"sneakers_1\", \"amsterdam\"),\n",
    "    (\"boots\", \"amsterdam\"),\n",
    "    (\"sandals\", \"taipei\"),\n",
    "    (\"boots\", \"winter\"),\n",
    "    (\"boots\", \"summer\")\n",
    "])"
   ]
  },
  {
   "cell_type": "code",
   "execution_count": 24,
   "id": "8db06aa0",
   "metadata": {},
   "outputs": [
    {
     "data": {
      "text/html": [
       "\n",
       "        <iframe\n",
       "            width=\"100%\"\n",
       "            height=\"600px\"\n",
       "            src=\"demo_2.html\"\n",
       "            frameborder=\"0\"\n",
       "            allowfullscreen\n",
       "            \n",
       "        ></iframe>\n",
       "        "
      ],
      "text/plain": [
       "<IPython.lib.display.IFrame at 0x7f8ba6649700>"
      ]
     },
     "execution_count": 24,
     "metadata": {},
     "output_type": "execute_result"
    }
   ],
   "source": [
    "g.show(\"demo_2.html\")"
   ]
  },
  {
   "cell_type": "code",
   "execution_count": null,
   "id": "569950d9",
   "metadata": {},
   "outputs": [],
   "source": []
  }
 ],
 "metadata": {
  "kernelspec": {
   "display_name": "Python 3 (ipykernel)",
   "language": "python",
   "name": "python3"
  },
  "language_info": {
   "codemirror_mode": {
    "name": "ipython",
    "version": 3
   },
   "file_extension": ".py",
   "mimetype": "text/x-python",
   "name": "python",
   "nbconvert_exporter": "python",
   "pygments_lexer": "ipython3",
   "version": "3.9.15"
  }
 },
 "nbformat": 4,
 "nbformat_minor": 5
}
